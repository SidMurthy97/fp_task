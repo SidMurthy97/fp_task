{
 "cells": [
  {
   "attachments": {},
   "cell_type": "markdown",
   "metadata": {},
   "source": [
    "# 1.Introduction\n",
    "\n",
    "The task is to provide insights to the building management about how to maintain the environmental guidance for an office environment. The data is provided in json packets."
   ]
  },
  {
   "cell_type": "code",
   "execution_count": 31,
   "metadata": {},
   "outputs": [],
   "source": [
    "import pandas as pd\n",
    "import numpy as np\n",
    "import matplotlib.pyplot as plt\n",
    "import seaborn as sns\n",
    "sns.set_style(\"darkgrid\")\n",
    "import json\n",
    "\n",
    "from tqdm import tqdm"
   ]
  },
  {
   "attachments": {},
   "cell_type": "markdown",
   "metadata": {},
   "source": [
    "## 2. Exploratory Data Analysis"
   ]
  },
  {
   "attachments": {},
   "cell_type": "markdown",
   "metadata": {},
   "source": [
    "Load the indoor and outdoor air quality data into dataframes first. From a quick glance the indoor air quality data is from various sensors. Instead of splitting this up into seperate dataframes, I can leave it in the same dataframe and just filter by the sensor id"
   ]
  },
  {
   "attachments": {},
   "cell_type": "markdown",
   "metadata": {},
   "source": [
    "The indoor air quality data will be the primary dataset, so lets do some EDA on it to see what we are working with."
   ]
  },
  {
   "attachments": {},
   "cell_type": "markdown",
   "metadata": {},
   "source": [
    "### 2.1 Indoor air quality"
   ]
  },
  {
   "cell_type": "code",
   "execution_count": 32,
   "metadata": {},
   "outputs": [
    {
     "data": {
      "text/html": [
       "<div>\n",
       "<style scoped>\n",
       "    .dataframe tbody tr th:only-of-type {\n",
       "        vertical-align: middle;\n",
       "    }\n",
       "\n",
       "    .dataframe tbody tr th {\n",
       "        vertical-align: top;\n",
       "    }\n",
       "\n",
       "    .dataframe thead th {\n",
       "        text-align: right;\n",
       "    }\n",
       "</style>\n",
       "<table border=\"1\" class=\"dataframe\">\n",
       "  <thead>\n",
       "    <tr style=\"text-align: right;\">\n",
       "      <th></th>\n",
       "      <th>documentTime</th>\n",
       "      <th>temp</th>\n",
       "      <th>humidity</th>\n",
       "      <th>co2</th>\n",
       "      <th>sensor_id</th>\n",
       "    </tr>\n",
       "  </thead>\n",
       "  <tbody>\n",
       "    <tr>\n",
       "      <th>0</th>\n",
       "      <td>2023-01-23 00:03:37+00:00</td>\n",
       "      <td>23.5</td>\n",
       "      <td>22</td>\n",
       "      <td>788</td>\n",
       "      <td>ENKZYW001792</td>\n",
       "    </tr>\n",
       "    <tr>\n",
       "      <th>1</th>\n",
       "      <td>2023-01-23 00:00:48+00:00</td>\n",
       "      <td>23.6</td>\n",
       "      <td>23</td>\n",
       "      <td>778</td>\n",
       "      <td>ENKZYW001804</td>\n",
       "    </tr>\n",
       "    <tr>\n",
       "      <th>2</th>\n",
       "      <td>2023-01-23 00:04:53+00:00</td>\n",
       "      <td>22.0</td>\n",
       "      <td>25</td>\n",
       "      <td>785</td>\n",
       "      <td>ENKZYW001882</td>\n",
       "    </tr>\n",
       "    <tr>\n",
       "      <th>3</th>\n",
       "      <td>2023-01-23 00:01:33+00:00</td>\n",
       "      <td>23.2</td>\n",
       "      <td>47</td>\n",
       "      <td>449</td>\n",
       "      <td>ENKZYW001856</td>\n",
       "    </tr>\n",
       "    <tr>\n",
       "      <th>4</th>\n",
       "      <td>2023-01-23 00:04:29+00:00</td>\n",
       "      <td>22.8</td>\n",
       "      <td>23</td>\n",
       "      <td>780</td>\n",
       "      <td>ENKZYW001848</td>\n",
       "    </tr>\n",
       "  </tbody>\n",
       "</table>\n",
       "</div>"
      ],
      "text/plain": [
       "               documentTime  temp  humidity  co2     sensor_id\n",
       "0 2023-01-23 00:03:37+00:00  23.5        22  788  ENKZYW001792\n",
       "1 2023-01-23 00:00:48+00:00  23.6        23  778  ENKZYW001804\n",
       "2 2023-01-23 00:04:53+00:00  22.0        25  785  ENKZYW001882\n",
       "3 2023-01-23 00:01:33+00:00  23.2        47  449  ENKZYW001856\n",
       "4 2023-01-23 00:04:29+00:00  22.8        23  780  ENKZYW001848"
      ]
     },
     "execution_count": 32,
     "metadata": {},
     "output_type": "execute_result"
    }
   ],
   "source": [
    "#read in the json and encode the iso + zulu time information\n",
    "iaq = pd.read_json(\"data/iaq.json\", convert_dates=[\"documentTime\"])\n",
    "iaq.head()"
   ]
  },
  {
   "cell_type": "code",
   "execution_count": 33,
   "metadata": {},
   "outputs": [
    {
     "name": "stdout",
     "output_type": "stream",
     "text": [
      "102629 rows and 5 columns in the dataset\n"
     ]
    }
   ],
   "source": [
    "print(f\"{iaq.shape[0]} rows and {iaq.shape[1]} columns in the dataset\")"
   ]
  },
  {
   "cell_type": "code",
   "execution_count": 34,
   "metadata": {},
   "outputs": [
    {
     "name": "stdout",
     "output_type": "stream",
     "text": [
      "<class 'pandas.core.frame.DataFrame'>\n",
      "RangeIndex: 102629 entries, 0 to 102628\n",
      "Data columns (total 5 columns):\n",
      " #   Column        Non-Null Count   Dtype              \n",
      "---  ------        --------------   -----              \n",
      " 0   documentTime  102629 non-null  datetime64[ns, UTC]\n",
      " 1   temp          102629 non-null  float64            \n",
      " 2   humidity      102629 non-null  int64              \n",
      " 3   co2           102629 non-null  int64              \n",
      " 4   sensor_id     102629 non-null  object             \n",
      "dtypes: datetime64[ns, UTC](1), float64(1), int64(2), object(1)\n",
      "memory usage: 3.9+ MB\n"
     ]
    }
   ],
   "source": [
    "iaq.info()"
   ]
  },
  {
   "attachments": {},
   "cell_type": "markdown",
   "metadata": {},
   "source": [
    "As expected, in this dataset we're working with ints and floats for the sensor readings, datettime for the read time and strings for the sensor id. It is also good that there is no missing data in this dataset, at least in the sense that no columns have any null values. \n",
    "\n",
    "**Assumption**: Nulls would only be present if the data recording mechanism fails, but if the sensor itself fails then the expected null values will be swapped out for another constant value. Given the time constraint, I am assuming that all sensors are working and none will reflect any systemic bias in the data.\n",
    "\n",
    "Lets use the describe method to see the numerical attributes of the data\n",
    "\n"
   ]
  },
  {
   "cell_type": "code",
   "execution_count": 35,
   "metadata": {},
   "outputs": [
    {
     "data": {
      "text/html": [
       "<div>\n",
       "<style scoped>\n",
       "    .dataframe tbody tr th:only-of-type {\n",
       "        vertical-align: middle;\n",
       "    }\n",
       "\n",
       "    .dataframe tbody tr th {\n",
       "        vertical-align: top;\n",
       "    }\n",
       "\n",
       "    .dataframe thead th {\n",
       "        text-align: right;\n",
       "    }\n",
       "</style>\n",
       "<table border=\"1\" class=\"dataframe\">\n",
       "  <thead>\n",
       "    <tr style=\"text-align: right;\">\n",
       "      <th></th>\n",
       "      <th>temp</th>\n",
       "      <th>humidity</th>\n",
       "      <th>co2</th>\n",
       "    </tr>\n",
       "  </thead>\n",
       "  <tbody>\n",
       "    <tr>\n",
       "      <th>count</th>\n",
       "      <td>102629.000000</td>\n",
       "      <td>102629.000000</td>\n",
       "      <td>102629.000000</td>\n",
       "    </tr>\n",
       "    <tr>\n",
       "      <th>mean</th>\n",
       "      <td>23.518861</td>\n",
       "      <td>31.273412</td>\n",
       "      <td>565.377155</td>\n",
       "    </tr>\n",
       "    <tr>\n",
       "      <th>std</th>\n",
       "      <td>1.151765</td>\n",
       "      <td>5.090771</td>\n",
       "      <td>150.045277</td>\n",
       "    </tr>\n",
       "    <tr>\n",
       "      <th>min</th>\n",
       "      <td>13.000000</td>\n",
       "      <td>20.000000</td>\n",
       "      <td>411.000000</td>\n",
       "    </tr>\n",
       "    <tr>\n",
       "      <th>25%</th>\n",
       "      <td>22.900000</td>\n",
       "      <td>28.000000</td>\n",
       "      <td>446.000000</td>\n",
       "    </tr>\n",
       "    <tr>\n",
       "      <th>50%</th>\n",
       "      <td>23.700000</td>\n",
       "      <td>30.000000</td>\n",
       "      <td>508.000000</td>\n",
       "    </tr>\n",
       "    <tr>\n",
       "      <th>75%</th>\n",
       "      <td>24.300000</td>\n",
       "      <td>34.000000</td>\n",
       "      <td>652.000000</td>\n",
       "    </tr>\n",
       "    <tr>\n",
       "      <th>max</th>\n",
       "      <td>27.200000</td>\n",
       "      <td>62.000000</td>\n",
       "      <td>1378.000000</td>\n",
       "    </tr>\n",
       "  </tbody>\n",
       "</table>\n",
       "</div>"
      ],
      "text/plain": [
       "                temp       humidity            co2\n",
       "count  102629.000000  102629.000000  102629.000000\n",
       "mean       23.518861      31.273412     565.377155\n",
       "std         1.151765       5.090771     150.045277\n",
       "min        13.000000      20.000000     411.000000\n",
       "25%        22.900000      28.000000     446.000000\n",
       "50%        23.700000      30.000000     508.000000\n",
       "75%        24.300000      34.000000     652.000000\n",
       "max        27.200000      62.000000    1378.000000"
      ]
     },
     "execution_count": 35,
     "metadata": {},
     "output_type": "execute_result"
    }
   ],
   "source": [
    "iaq.describe()"
   ]
  },
  {
   "attachments": {},
   "cell_type": "markdown",
   "metadata": {},
   "source": [
    "The average values for all three features are within the operating goals of the building. At the extremes, humidity is still within the operating range, but the temperature and co2 measurements do spill out of the required boundries. The trends will be illuminated in the analysis section so lets not worry about it for now, but this data is useful in any EDA process."
   ]
  },
  {
   "cell_type": "markdown",
   "metadata": {},
   "source": [
    "\n",
    "I am now interested in seeing how many sensors we actually have. Do they all have the same amount of reads?"
   ]
  },
  {
   "cell_type": "code",
   "execution_count": 36,
   "metadata": {},
   "outputs": [
    {
     "name": "stdout",
     "output_type": "stream",
     "text": [
      "There are 14 sensors in this dataset\n",
      "ENKZYW001883    7938\n",
      "ENKZYW001884    7936\n",
      "ENKZYW001900    7934\n",
      "ENKZYW001848    7931\n",
      "ENKZYW001819    7927\n",
      "ENKZYW001792    7926\n",
      "ENKZYW001958    7920\n",
      "ENKZYW001888    7914\n",
      "ENKZYW001837    7890\n",
      "ENKZYW001925    7769\n",
      "ENKZYW001882    7768\n",
      "ENKZYW001804    7245\n",
      "ENKZYW001856    4980\n",
      "ENKZYW001935    3551\n",
      "Name: sensor_id, dtype: int64\n"
     ]
    }
   ],
   "source": [
    "sensor_counts = iaq.sensor_id.value_counts()\n",
    "\n",
    "print(f\"There are {len(sensor_counts)} sensors in this dataset\")\n",
    "print(sensor_counts)"
   ]
  },
  {
   "attachments": {},
   "cell_type": "markdown",
   "metadata": {},
   "source": [
    "All sensors in this dataset have a different number of reads. No consequence of this for now, but good to keep in mind when it comes to critique the generated insights.\n"
   ]
  },
  {
   "attachments": {},
   "cell_type": "markdown",
   "metadata": {},
   "source": [
    "### 2.2 Sensor layout"
   ]
  },
  {
   "cell_type": "markdown",
   "metadata": {},
   "source": [
    "\n",
    "To get some visual intuition, lets see if I can match the sensors to their location using the other data provided."
   ]
  },
  {
   "cell_type": "code",
   "execution_count": 37,
   "metadata": {},
   "outputs": [
    {
     "name": "stderr",
     "output_type": "stream",
     "text": [
      "100%|██████████| 2/2 [00:00<00:00, 21.07it/s]\n"
     ]
    },
    {
     "data": {
      "text/plain": [
       "<Figure size 640x480 with 0 Axes>"
      ]
     },
     "metadata": {},
     "output_type": "display_data"
    },
    {
     "data": {
      "image/png": "[encoded data removed]",
      "text/plain": [
       "<Figure size 640x480 with 1 Axes>"
      ]
     },
     "metadata": {},
     "output_type": "display_data"
    },
    {
     "data": {
      "text/plain": [
       "<Figure size 640x480 with 0 Axes>"
      ]
     },
     "metadata": {},
     "output_type": "display_data"
    },
    {
     "data": {
      "image/png": "[encoded data removed]",
      "text/plain": [
       "<Figure size 640x480 with 1 Axes>"
      ]
     },
     "metadata": {},
     "output_type": "display_data"
    }
   ],
   "source": [
    "# This time lets read the json in as a dictionary\n",
    "with open('data/floors.json') as json_file:\n",
    "    floor_data = json.load(json_file)\n",
    "\n",
    "#iterate and plot\n",
    "for packet in tqdm(floor_data):\n",
    "    \n",
    "    image_name = packet[\"image\"][\"name\"]\n",
    "\n",
    "    #read the image into a enw figure\n",
    "    plt.figure()\n",
    "    im = plt.imread(f\"data/{image_name}\")\n",
    "    fig, ax = plt.subplots()\n",
    "    im = ax.imshow(im)\n",
    "\n",
    "    #the sensors key is a list of more dictionarys\n",
    "    sensors = packet[\"sensors\"]\n",
    "\n",
    "    #plot each sensor and annotate. At this point the coordinate system is the image standard i.e mirrored on the x axis\n",
    "    for sensor in sensors:\n",
    "        x,y = sensor[\"location\"][\"x\"],sensor[\"location\"][\"y\"]\n",
    "        plt.plot(x,y,'k.',markersize=10)\n",
    "        ax.annotate(sensor[\"sensor_id\"], (x,y),xytext =(x - 70,y - 20), fontsize =8)"
   ]
  },
  {
   "attachments": {},
   "cell_type": "markdown",
   "metadata": {},
   "source": [
    "Interesting to see that the sensors are placed vaguely in the same spot on both floors. Also that the sensors are laid out in a ring-like structure. No apparant rhyme or reason to why some sensors have less readings than others though."
   ]
  },
  {
   "attachments": {},
   "cell_type": "markdown",
   "metadata": {},
   "source": [
    "### 2.3 Outdoor air quality"
   ]
  },
  {
   "cell_type": "code",
   "execution_count": 38,
   "metadata": {},
   "outputs": [
    {
     "data": {
      "text/html": [
       "<div>\n",
       "<style scoped>\n",
       "    .dataframe tbody tr th:only-of-type {\n",
       "        vertical-align: middle;\n",
       "    }\n",
       "\n",
       "    .dataframe tbody tr th {\n",
       "        vertical-align: top;\n",
       "    }\n",
       "\n",
       "    .dataframe thead th {\n",
       "        text-align: right;\n",
       "    }\n",
       "</style>\n",
       "<table border=\"1\" class=\"dataframe\">\n",
       "  <thead>\n",
       "    <tr style=\"text-align: right;\">\n",
       "      <th></th>\n",
       "      <th>documentTime</th>\n",
       "      <th>temperature</th>\n",
       "      <th>humidity</th>\n",
       "      <th>windSpeed</th>\n",
       "    </tr>\n",
       "  </thead>\n",
       "  <tbody>\n",
       "    <tr>\n",
       "      <th>0</th>\n",
       "      <td>2023-01-23 01:00:00+00:00</td>\n",
       "      <td>-1.3</td>\n",
       "      <td>89.5</td>\n",
       "      <td>NaN</td>\n",
       "    </tr>\n",
       "    <tr>\n",
       "      <th>1</th>\n",
       "      <td>2023-01-23 02:00:00+00:00</td>\n",
       "      <td>-1.5</td>\n",
       "      <td>90.0</td>\n",
       "      <td>NaN</td>\n",
       "    </tr>\n",
       "    <tr>\n",
       "      <th>2</th>\n",
       "      <td>2023-01-23 03:00:00+00:00</td>\n",
       "      <td>-1.8</td>\n",
       "      <td>90.0</td>\n",
       "      <td>NaN</td>\n",
       "    </tr>\n",
       "    <tr>\n",
       "      <th>3</th>\n",
       "      <td>2023-01-23 04:00:00+00:00</td>\n",
       "      <td>-2.2</td>\n",
       "      <td>90.7</td>\n",
       "      <td>NaN</td>\n",
       "    </tr>\n",
       "    <tr>\n",
       "      <th>4</th>\n",
       "      <td>2023-01-23 05:00:00+00:00</td>\n",
       "      <td>-2.3</td>\n",
       "      <td>91.0</td>\n",
       "      <td>NaN</td>\n",
       "    </tr>\n",
       "  </tbody>\n",
       "</table>\n",
       "</div>"
      ],
      "text/plain": [
       "               documentTime  temperature  humidity  windSpeed\n",
       "0 2023-01-23 01:00:00+00:00         -1.3      89.5        NaN\n",
       "1 2023-01-23 02:00:00+00:00         -1.5      90.0        NaN\n",
       "2 2023-01-23 03:00:00+00:00         -1.8      90.0        NaN\n",
       "3 2023-01-23 04:00:00+00:00         -2.2      90.7        NaN\n",
       "4 2023-01-23 05:00:00+00:00         -2.3      91.0        NaN"
      ]
     },
     "execution_count": 38,
     "metadata": {},
     "output_type": "execute_result"
    }
   ],
   "source": [
    "#read in the json and encode the iso + zulu time information\n",
    "oaq = pd.read_json(\"data/oaq.json\", convert_dates=[\"documentTime\"])\n",
    "oaq.head()"
   ]
  },
  {
   "cell_type": "code",
   "execution_count": 39,
   "metadata": {},
   "outputs": [
    {
     "name": "stdout",
     "output_type": "stream",
     "text": [
      "2892 rows and 4 columns in the dataset\n"
     ]
    }
   ],
   "source": [
    "print(f\"{oaq.shape[0]} rows and {oaq.shape[1]} columns in the dataset\")"
   ]
  },
  {
   "attachments": {},
   "cell_type": "markdown",
   "metadata": {},
   "source": [
    "So the outdoor air quality data is far more limited than the indoor air quality. This is not unexpected, and was mentioned in the brief"
   ]
  },
  {
   "cell_type": "code",
   "execution_count": 40,
   "metadata": {},
   "outputs": [
    {
     "name": "stdout",
     "output_type": "stream",
     "text": [
      "<class 'pandas.core.frame.DataFrame'>\n",
      "RangeIndex: 2892 entries, 0 to 2891\n",
      "Data columns (total 4 columns):\n",
      " #   Column        Non-Null Count  Dtype              \n",
      "---  ------        --------------  -----              \n",
      " 0   documentTime  2892 non-null   datetime64[ns, UTC]\n",
      " 1   temperature   2892 non-null   float64            \n",
      " 2   humidity      2892 non-null   float64            \n",
      " 3   windSpeed     1814 non-null   float64            \n",
      "dtypes: datetime64[ns, UTC](1), float64(3)\n",
      "memory usage: 90.5 KB\n"
     ]
    }
   ],
   "source": [
    "oaq.info()"
   ]
  },
  {
   "cell_type": "code",
   "execution_count": 41,
   "metadata": {},
   "outputs": [
    {
     "data": {
      "text/html": [
       "<div>\n",
       "<style scoped>\n",
       "    .dataframe tbody tr th:only-of-type {\n",
       "        vertical-align: middle;\n",
       "    }\n",
       "\n",
       "    .dataframe tbody tr th {\n",
       "        vertical-align: top;\n",
       "    }\n",
       "\n",
       "    .dataframe thead th {\n",
       "        text-align: right;\n",
       "    }\n",
       "</style>\n",
       "<table border=\"1\" class=\"dataframe\">\n",
       "  <thead>\n",
       "    <tr style=\"text-align: right;\">\n",
       "      <th></th>\n",
       "      <th>temperature</th>\n",
       "      <th>humidity</th>\n",
       "      <th>windSpeed</th>\n",
       "    </tr>\n",
       "  </thead>\n",
       "  <tbody>\n",
       "    <tr>\n",
       "      <th>count</th>\n",
       "      <td>2892.000000</td>\n",
       "      <td>2892.000000</td>\n",
       "      <td>1814.000000</td>\n",
       "    </tr>\n",
       "    <tr>\n",
       "      <th>mean</th>\n",
       "      <td>8.109336</td>\n",
       "      <td>82.011929</td>\n",
       "      <td>1.670838</td>\n",
       "    </tr>\n",
       "    <tr>\n",
       "      <th>std</th>\n",
       "      <td>2.944377</td>\n",
       "      <td>6.163737</td>\n",
       "      <td>1.335680</td>\n",
       "    </tr>\n",
       "    <tr>\n",
       "      <th>min</th>\n",
       "      <td>-2.700000</td>\n",
       "      <td>50.000000</td>\n",
       "      <td>0.100000</td>\n",
       "    </tr>\n",
       "    <tr>\n",
       "      <th>25%</th>\n",
       "      <td>6.200000</td>\n",
       "      <td>79.000000</td>\n",
       "      <td>0.800000</td>\n",
       "    </tr>\n",
       "    <tr>\n",
       "      <th>50%</th>\n",
       "      <td>8.300000</td>\n",
       "      <td>83.000000</td>\n",
       "      <td>0.800000</td>\n",
       "    </tr>\n",
       "    <tr>\n",
       "      <th>75%</th>\n",
       "      <td>10.500000</td>\n",
       "      <td>86.700000</td>\n",
       "      <td>2.775000</td>\n",
       "    </tr>\n",
       "    <tr>\n",
       "      <th>max</th>\n",
       "      <td>13.800000</td>\n",
       "      <td>93.000000</td>\n",
       "      <td>8.100000</td>\n",
       "    </tr>\n",
       "  </tbody>\n",
       "</table>\n",
       "</div>"
      ],
      "text/plain": [
       "       temperature     humidity    windSpeed\n",
       "count  2892.000000  2892.000000  1814.000000\n",
       "mean      8.109336    82.011929     1.670838\n",
       "std       2.944377     6.163737     1.335680\n",
       "min      -2.700000    50.000000     0.100000\n",
       "25%       6.200000    79.000000     0.800000\n",
       "50%       8.300000    83.000000     0.800000\n",
       "75%      10.500000    86.700000     2.775000\n",
       "max      13.800000    93.000000     8.100000"
      ]
     },
     "execution_count": 41,
     "metadata": {},
     "output_type": "execute_result"
    }
   ],
   "source": [
    "oaq.describe()"
   ]
  },
  {
   "attachments": {},
   "cell_type": "markdown",
   "metadata": {},
   "source": [
    "37% of the windspeed data is null. Windspeed could cause significant impact to the humidity and co2 levels in the building by governing the rate of passive ventilation. I could either drop all indices where the windspeed is null, or impute the missing data. In the data processing section I will have to plot the windspeed and look for trends of seasonality to determine how to interpolate between missing data."
   ]
  },
  {
   "attachments": {},
   "cell_type": "markdown",
   "metadata": {},
   "source": [
    "## 3. Data preperation"
   ]
  },
  {
   "attachments": {},
   "cell_type": "markdown",
   "metadata": {},
   "source": [
    "### 3.1 Windspeed\n",
    "\n",
    "As determined in the previous section, a decision has to be made on what to do with missing values in the windspeed column of the outdoor air quality dataset. Lets plot it first and see what the seasonality or trend is."
   ]
  },
  {
   "cell_type": "code",
   "execution_count": 42,
   "metadata": {},
   "outputs": [
    {
     "data": {
      "text/html": [
       "<div>\n",
       "<style scoped>\n",
       "    .dataframe tbody tr th:only-of-type {\n",
       "        vertical-align: middle;\n",
       "    }\n",
       "\n",
       "    .dataframe tbody tr th {\n",
       "        vertical-align: top;\n",
       "    }\n",
       "\n",
       "    .dataframe thead th {\n",
       "        text-align: right;\n",
       "    }\n",
       "</style>\n",
       "<table border=\"1\" class=\"dataframe\">\n",
       "  <thead>\n",
       "    <tr style=\"text-align: right;\">\n",
       "      <th></th>\n",
       "      <th>documentTime</th>\n",
       "      <th>temperature</th>\n",
       "      <th>humidity</th>\n",
       "      <th>windSpeed</th>\n",
       "    </tr>\n",
       "  </thead>\n",
       "  <tbody>\n",
       "    <tr>\n",
       "      <th>0</th>\n",
       "      <td>2023-01-23 01:00:00+00:00</td>\n",
       "      <td>-1.3</td>\n",
       "      <td>89.5</td>\n",
       "      <td>NaN</td>\n",
       "    </tr>\n",
       "    <tr>\n",
       "      <th>1</th>\n",
       "      <td>2023-01-23 02:00:00+00:00</td>\n",
       "      <td>-1.5</td>\n",
       "      <td>90.0</td>\n",
       "      <td>NaN</td>\n",
       "    </tr>\n",
       "    <tr>\n",
       "      <th>2</th>\n",
       "      <td>2023-01-23 03:00:00+00:00</td>\n",
       "      <td>-1.8</td>\n",
       "      <td>90.0</td>\n",
       "      <td>NaN</td>\n",
       "    </tr>\n",
       "  </tbody>\n",
       "</table>\n",
       "</div>"
      ],
      "text/plain": [
       "               documentTime  temperature  humidity  windSpeed\n",
       "0 2023-01-23 01:00:00+00:00         -1.3      89.5        NaN\n",
       "1 2023-01-23 02:00:00+00:00         -1.5      90.0        NaN\n",
       "2 2023-01-23 03:00:00+00:00         -1.8      90.0        NaN"
      ]
     },
     "execution_count": 42,
     "metadata": {},
     "output_type": "execute_result"
    }
   ],
   "source": [
    "oaq.head(3)"
   ]
  },
  {
   "cell_type": "code",
   "execution_count": 43,
   "metadata": {},
   "outputs": [
    {
     "data": {
      "text/plain": [
       "[<matplotlib.lines.Line2D at 0x1f50064ada0>]"
      ]
     },
     "execution_count": 43,
     "metadata": {},
     "output_type": "execute_result"
    },
    {
     "data": {
      "image/png": "[encoded data removed]",
      "text/plain": [
       "<Figure size 640x480 with 1 Axes>"
      ]
     },
     "metadata": {},
     "output_type": "display_data"
    }
   ],
   "source": [
    "plt.plot(oaq.documentTime,oaq.windSpeed)"
   ]
  },
  {
   "attachments": {},
   "cell_type": "markdown",
   "metadata": {},
   "source": [
    "There are 2 groups of null values, one at the start and one in the middle. There seems to be no reas trend or seasonality in the data so we can impute the missing data but either interpolating, or doing something like a \"carry last value\" method. As wind speed is a pretty dynamic feature (it can change drastically between days) its is most representative to do a \"carry last value forward\" method to fill the data. With the initial null values, we could do a \"carry next value back\" method. With all that being said, the outdoor air quality data is already so limited compared to the indoor air quality that dropping a few days worth of data won't have much impact. Lets see how many days of data we would lose if we simply dropped the null rows."
   ]
  },
  {
   "cell_type": "code",
   "execution_count": 49,
   "metadata": {},
   "outputs": [
    {
     "name": "stdout",
     "output_type": "stream",
     "text": [
      "There are 13 days worth of missing windspeed data\n"
     ]
    }
   ],
   "source": [
    "oaq_missing_data = oaq[oaq.windSpeed.isna()].copy()\n",
    "oaq_missing_data[\"date\"] = oaq_missing_data.documentTime.dt.date\n",
    "\n",
    "print(f\"There are {len(oaq_missing_data.date.unique())} days worth of missing windspeed data\")"
   ]
  },
  {
   "attachments": {},
   "cell_type": "markdown",
   "metadata": {},
   "source": [
    "Ok so 13 days of missing data is actually quite a lot. Lets fill using a carry method."
   ]
  },
  {
   "cell_type": "code",
   "execution_count": 54,
   "metadata": {},
   "outputs": [
    {
     "data": {
      "text/html": [
       "<div>\n",
       "<style scoped>\n",
       "    .dataframe tbody tr th:only-of-type {\n",
       "        vertical-align: middle;\n",
       "    }\n",
       "\n",
       "    .dataframe tbody tr th {\n",
       "        vertical-align: top;\n",
       "    }\n",
       "\n",
       "    .dataframe thead th {\n",
       "        text-align: right;\n",
       "    }\n",
       "</style>\n",
       "<table border=\"1\" class=\"dataframe\">\n",
       "  <thead>\n",
       "    <tr style=\"text-align: right;\">\n",
       "      <th></th>\n",
       "      <th>documentTime</th>\n",
       "      <th>temperature</th>\n",
       "      <th>humidity</th>\n",
       "      <th>windSpeed</th>\n",
       "    </tr>\n",
       "  </thead>\n",
       "  <tbody>\n",
       "    <tr>\n",
       "      <th>0</th>\n",
       "      <td>2023-01-23 01:00:00+00:00</td>\n",
       "      <td>-1.3</td>\n",
       "      <td>89.5</td>\n",
       "      <td>1.8</td>\n",
       "    </tr>\n",
       "    <tr>\n",
       "      <th>1</th>\n",
       "      <td>2023-01-23 02:00:00+00:00</td>\n",
       "      <td>-1.5</td>\n",
       "      <td>90.0</td>\n",
       "      <td>1.8</td>\n",
       "    </tr>\n",
       "    <tr>\n",
       "      <th>2</th>\n",
       "      <td>2023-01-23 03:00:00+00:00</td>\n",
       "      <td>-1.8</td>\n",
       "      <td>90.0</td>\n",
       "      <td>1.8</td>\n",
       "    </tr>\n",
       "    <tr>\n",
       "      <th>3</th>\n",
       "      <td>2023-01-23 04:00:00+00:00</td>\n",
       "      <td>-2.2</td>\n",
       "      <td>90.7</td>\n",
       "      <td>1.8</td>\n",
       "    </tr>\n",
       "    <tr>\n",
       "      <th>4</th>\n",
       "      <td>2023-01-23 05:00:00+00:00</td>\n",
       "      <td>-2.3</td>\n",
       "      <td>91.0</td>\n",
       "      <td>1.8</td>\n",
       "    </tr>\n",
       "  </tbody>\n",
       "</table>\n",
       "</div>"
      ],
      "text/plain": [
       "               documentTime  temperature  humidity  windSpeed\n",
       "0 2023-01-23 01:00:00+00:00         -1.3      89.5        1.8\n",
       "1 2023-01-23 02:00:00+00:00         -1.5      90.0        1.8\n",
       "2 2023-01-23 03:00:00+00:00         -1.8      90.0        1.8\n",
       "3 2023-01-23 04:00:00+00:00         -2.2      90.7        1.8\n",
       "4 2023-01-23 05:00:00+00:00         -2.3      91.0        1.8"
      ]
     },
     "execution_count": 54,
     "metadata": {},
     "output_type": "execute_result"
    }
   ],
   "source": [
    "#if we do a forward carry first, the initial null set will still be null. We can do a back fill on the resulting df\n",
    "oaq = oaq.fillna(method=\"ffill\").fillna(method=\"bfill\")\n",
    "oaq.head()"
   ]
  }
 ],
 "metadata": {
  "kernelspec": {
   "display_name": "Python 3",
   "language": "python",
   "name": "python3"
  },
  "language_info": {
   "codemirror_mode": {
    "name": "ipython",
    "version": 3
   },
   "file_extension": ".py",
   "mimetype": "text/x-python",
   "name": "python",
   "nbconvert_exporter": "python",
   "pygments_lexer": "ipython3",
   "version": "3.10.2"
  },
  "orig_nbformat": 4,
  "vscode": {
   "interpreter": {
    "hash": "665eb321da18975f27ab8981bbd2d96b6fe67006b38e5a2e83f5b267bcbdf24f"
   }
  }
 },
 "nbformat": 4,
 "nbformat_minor": 2
}
