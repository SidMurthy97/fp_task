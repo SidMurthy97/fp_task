{
 "cells": [
  {
   "attachments": {},
   "cell_type": "markdown",
   "metadata": {},
   "source": [
    "# Introduction\n",
    "\n",
    "The task is to provide insights to the building management about how to maintain the environmental guidance for an office environment. The data is provided in json packets."
   ]
  },
  {
   "cell_type": "code",
   "execution_count": 2,
   "metadata": {},
   "outputs": [],
   "source": [
    "import pandas as pd"
   ]
  },
  {
   "attachments": {},
   "cell_type": "markdown",
   "metadata": {},
   "source": [
    "Load the indoor and outdoor air quality data into dataframes first. From a quick glance the indoor air quality data is from various sensors. Instead of splitting this up into seperate dataframes, I can leave it in the same dataframe and just filter by the sensor id"
   ]
  },
  {
   "cell_type": "code",
   "execution_count": 13,
   "metadata": {},
   "outputs": [
    {
     "data": {
      "text/html": [
       "<div>\n",
       "<style scoped>\n",
       "    .dataframe tbody tr th:only-of-type {\n",
       "        vertical-align: middle;\n",
       "    }\n",
       "\n",
       "    .dataframe tbody tr th {\n",
       "        vertical-align: top;\n",
       "    }\n",
       "\n",
       "    .dataframe thead th {\n",
       "        text-align: right;\n",
       "    }\n",
       "</style>\n",
       "<table border=\"1\" class=\"dataframe\">\n",
       "  <thead>\n",
       "    <tr style=\"text-align: right;\">\n",
       "      <th></th>\n",
       "      <th>documentTime</th>\n",
       "      <th>temp</th>\n",
       "      <th>humidity</th>\n",
       "      <th>co2</th>\n",
       "      <th>sensor_id</th>\n",
       "    </tr>\n",
       "  </thead>\n",
       "  <tbody>\n",
       "    <tr>\n",
       "      <th>0</th>\n",
       "      <td>2023-01-23 00:03:37+00:00</td>\n",
       "      <td>23.5</td>\n",
       "      <td>22</td>\n",
       "      <td>788</td>\n",
       "      <td>ENKZYW001792</td>\n",
       "    </tr>\n",
       "    <tr>\n",
       "      <th>1</th>\n",
       "      <td>2023-01-23 00:00:48+00:00</td>\n",
       "      <td>23.6</td>\n",
       "      <td>23</td>\n",
       "      <td>778</td>\n",
       "      <td>ENKZYW001804</td>\n",
       "    </tr>\n",
       "    <tr>\n",
       "      <th>2</th>\n",
       "      <td>2023-01-23 00:04:53+00:00</td>\n",
       "      <td>22.0</td>\n",
       "      <td>25</td>\n",
       "      <td>785</td>\n",
       "      <td>ENKZYW001882</td>\n",
       "    </tr>\n",
       "    <tr>\n",
       "      <th>3</th>\n",
       "      <td>2023-01-23 00:01:33+00:00</td>\n",
       "      <td>23.2</td>\n",
       "      <td>47</td>\n",
       "      <td>449</td>\n",
       "      <td>ENKZYW001856</td>\n",
       "    </tr>\n",
       "    <tr>\n",
       "      <th>4</th>\n",
       "      <td>2023-01-23 00:04:29+00:00</td>\n",
       "      <td>22.8</td>\n",
       "      <td>23</td>\n",
       "      <td>780</td>\n",
       "      <td>ENKZYW001848</td>\n",
       "    </tr>\n",
       "  </tbody>\n",
       "</table>\n",
       "</div>"
      ],
      "text/plain": [
       "               documentTime  temp  humidity  co2     sensor_id\n",
       "0 2023-01-23 00:03:37+00:00  23.5        22  788  ENKZYW001792\n",
       "1 2023-01-23 00:00:48+00:00  23.6        23  778  ENKZYW001804\n",
       "2 2023-01-23 00:04:53+00:00  22.0        25  785  ENKZYW001882\n",
       "3 2023-01-23 00:01:33+00:00  23.2        47  449  ENKZYW001856\n",
       "4 2023-01-23 00:04:29+00:00  22.8        23  780  ENKZYW001848"
      ]
     },
     "execution_count": 13,
     "metadata": {},
     "output_type": "execute_result"
    }
   ],
   "source": [
    "#read in the json and encode the iso + zulu time information\n",
    "iaq = pd.read_json(\"data/iaq.json\", convert_dates=[\"documentTime\"])\n",
    "iaq.head()"
   ]
  },
  {
   "attachments": {},
   "cell_type": "markdown",
   "metadata": {},
   "source": [
    "The indoor air quality data will be the primary dataset, so lets do some EDA on it to see what we are working with."
   ]
  },
  {
   "attachments": {},
   "cell_type": "markdown",
   "metadata": {},
   "source": [
    "## 1. Exploratory Data Analysis"
   ]
  },
  {
   "cell_type": "code",
   "execution_count": 14,
   "metadata": {},
   "outputs": [
    {
     "name": "stdout",
     "output_type": "stream",
     "text": [
      "102629 rows and 5 columns in the dataset\n"
     ]
    }
   ],
   "source": [
    "print(f\"{iaq.shape[0]} rows and {iaq.shape[1]} columns in the dataset\")"
   ]
  },
  {
   "cell_type": "code",
   "execution_count": 16,
   "metadata": {},
   "outputs": [
    {
     "name": "stdout",
     "output_type": "stream",
     "text": [
      "<class 'pandas.core.frame.DataFrame'>\n",
      "RangeIndex: 102629 entries, 0 to 102628\n",
      "Data columns (total 5 columns):\n",
      " #   Column        Non-Null Count   Dtype              \n",
      "---  ------        --------------   -----              \n",
      " 0   documentTime  102629 non-null  datetime64[ns, UTC]\n",
      " 1   temp          102629 non-null  float64            \n",
      " 2   humidity      102629 non-null  int64              \n",
      " 3   co2           102629 non-null  int64              \n",
      " 4   sensor_id     102629 non-null  object             \n",
      "dtypes: datetime64[ns, UTC](1), float64(1), int64(2), object(1)\n",
      "memory usage: 3.9+ MB\n"
     ]
    }
   ],
   "source": [
    "iaq.info()"
   ]
  },
  {
   "attachments": {},
   "cell_type": "markdown",
   "metadata": {},
   "source": [
    "As expected, in this dataset we're working with ints and floats for the sensor readings, datettime for the read time and strings for the sensor id. It is also good that there is no missing data in this dataset, at least in the sense that no columns have any null values. \n",
    "\n",
    "Nulls would only be present if the data recording mechanism fails, but if the sensor itself fails then the expected null values will be swapped out for another constant value. Given the time constraint, I am assuming that all sensors are working and none will reflect any systemic bias in the data.\n",
    "\n",
    "I am now interested in seeing how many sensors we actually have. Do they all have the same amount of reads?"
   ]
  },
  {
   "cell_type": "code",
   "execution_count": 22,
   "metadata": {},
   "outputs": [
    {
     "name": "stdout",
     "output_type": "stream",
     "text": [
      "There are 14 sensors in this dataset\n",
      "ENKZYW001883    7938\n",
      "ENKZYW001884    7936\n",
      "ENKZYW001900    7934\n",
      "ENKZYW001848    7931\n",
      "ENKZYW001819    7927\n",
      "ENKZYW001792    7926\n",
      "ENKZYW001958    7920\n",
      "ENKZYW001888    7914\n",
      "ENKZYW001837    7890\n",
      "ENKZYW001925    7769\n",
      "ENKZYW001882    7768\n",
      "ENKZYW001804    7245\n",
      "ENKZYW001856    4980\n",
      "ENKZYW001935    3551\n",
      "Name: sensor_id, dtype: int64\n"
     ]
    }
   ],
   "source": [
    "sensor_counts = iaq.sensor_id.value_counts()\n",
    "\n",
    "print(f\"There are {len(sensor_counts)} sensors in this dataset\")\n",
    "print(sensor_counts)"
   ]
  },
  {
   "attachments": {},
   "cell_type": "markdown",
   "metadata": {},
   "source": [
    "All sensors in this dataset have a different number of reads. No consequence of this for now, but good to keep in mind when it comes to critique the generated insights.\n",
    "\n",
    "To get some visual intuition, lets see if I can match the sensors to their location using the other data provided."
   ]
  }
 ],
 "metadata": {
  "kernelspec": {
   "display_name": "Python 3",
   "language": "python",
   "name": "python3"
  },
  "language_info": {
   "codemirror_mode": {
    "name": "ipython",
    "version": 3
   },
   "file_extension": ".py",
   "mimetype": "text/x-python",
   "name": "python",
   "nbconvert_exporter": "python",
   "pygments_lexer": "ipython3",
   "version": "3.10.2"
  },
  "orig_nbformat": 4,
  "vscode": {
   "interpreter": {
    "hash": "665eb321da18975f27ab8981bbd2d96b6fe67006b38e5a2e83f5b267bcbdf24f"
   }
  }
 },
 "nbformat": 4,
 "nbformat_minor": 2
}
